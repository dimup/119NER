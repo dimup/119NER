{
  "nbformat": 4,
  "nbformat_minor": 0,
  "metadata": {
    "accelerator": "GPU",
    "colab": {
      "name": "KoBERT_NER_KMOU_for_119NER.ipynb",
      "provenance": [],
      "collapsed_sections": [],
      "toc_visible": true
    },
    "kernelspec": {
      "display_name": "Python 3",
      "name": "python3"
    }
  },
  "cells": [
    {
      "cell_type": "markdown",
      "metadata": {
        "id": "U4RPsZP60_QG"
      },
      "source": [
        "## **구글 드라이브와 연동 및 경로설정**"
      ]
    },
    {
      "cell_type": "code",
      "metadata": {
        "id": "HKB0GTLlzSLw",
        "colab": {
          "base_uri": "https://localhost:8080/"
        },
        "outputId": "c2344d9c-08af-42dd-f3a4-f198bcd22332"
      },
      "source": [
        "from google.colab import drive\n",
        "drive.mount('/content/drive')"
      ],
      "execution_count": null,
      "outputs": [
        {
          "output_type": "stream",
          "text": [
            "Mounted at /content/drive\n"
          ],
          "name": "stdout"
        }
      ]
    },
    {
      "cell_type": "code",
      "metadata": {
        "id": "OjI5sBNGXIb5",
        "colab": {
          "base_uri": "https://localhost:8080/"
        },
        "outputId": "6f402937-33f1-40c5-80cc-39708a06a004"
      },
      "source": [
        "# KoBERT tokenizer import하기 위한 경로 추가 설정\n",
        "import sys\n",
        "sys.path.append('/content/drive/My Drive/Colab Notebooks')\n",
        "print(sys.path)"
      ],
      "execution_count": null,
      "outputs": [
        {
          "output_type": "stream",
          "text": [
            "['', '/env/python', '/usr/lib/python36.zip', '/usr/lib/python3.6', '/usr/lib/python3.6/lib-dynload', '/usr/local/lib/python3.6/dist-packages', '/usr/lib/python3/dist-packages', '/usr/local/lib/python3.6/dist-packages/IPython/extensions', '/root/.ipython', '/content/drive/My Drive/Colab Notebooks']\n"
          ],
          "name": "stdout"
        }
      ]
    },
    {
      "cell_type": "markdown",
      "metadata": {
        "id": "P58qy4--s5_x"
      },
      "source": [
        "<br>\n",
        "\n",
        "# **KoBERT 기반 119NER 모델 구현**\n",
        "BERT의 다국어 모델인 BERT-multilingual 모델에 한국어를 추가 학습한 SK T-Brain KoBERT를 기반으로한 모델 구현입니다.\n"
      ]
    },
    {
      "cell_type": "markdown",
      "metadata": {
        "id": "i45d7E0L8bZ_"
      },
      "source": [
        "<br>\n",
        "<br>\n",
        "\n",
        "# **install & import**\n",
        "tranformers 버전이 최근 갱신되며 기존 코드가 적용되지 않는 오류가 있습니다.\n",
        "<br>\n",
        "따라서 3.4.0 버전으로 install을 진행합니다."
      ]
    },
    {
      "cell_type": "code",
      "metadata": {
        "colab": {
          "base_uri": "https://localhost:8080/"
        },
        "id": "K-WmVQ_Qjlmf",
        "outputId": "8cca4935-f46f-4754-f9db-93de39d0716d"
      },
      "source": [
        "!pip install \"transformers==3.4.0\""
      ],
      "execution_count": null,
      "outputs": [
        {
          "output_type": "stream",
          "text": [
            "Collecting transformers==3.4.0\n",
            "\u001b[?25l  Downloading https://files.pythonhosted.org/packages/2c/4e/4f1ede0fd7a36278844a277f8d53c21f88f37f3754abf76a5d6224f76d4a/transformers-3.4.0-py3-none-any.whl (1.3MB)\n",
            "\u001b[K     |████████████████████████████████| 1.3MB 9.2MB/s \n",
            "\u001b[?25hRequirement already satisfied: filelock in /usr/local/lib/python3.6/dist-packages (from transformers==3.4.0) (3.0.12)\n",
            "Requirement already satisfied: regex!=2019.12.17 in /usr/local/lib/python3.6/dist-packages (from transformers==3.4.0) (2019.12.20)\n",
            "Requirement already satisfied: protobuf in /usr/local/lib/python3.6/dist-packages (from transformers==3.4.0) (3.12.4)\n",
            "Collecting sacremoses\n",
            "\u001b[?25l  Downloading https://files.pythonhosted.org/packages/7d/34/09d19aff26edcc8eb2a01bed8e98f13a1537005d31e95233fd48216eed10/sacremoses-0.0.43.tar.gz (883kB)\n",
            "\u001b[K     |████████████████████████████████| 890kB 24.2MB/s \n",
            "\u001b[?25hRequirement already satisfied: requests in /usr/local/lib/python3.6/dist-packages (from transformers==3.4.0) (2.23.0)\n",
            "Requirement already satisfied: numpy in /usr/local/lib/python3.6/dist-packages (from transformers==3.4.0) (1.18.5)\n",
            "Requirement already satisfied: dataclasses; python_version < \"3.7\" in /usr/local/lib/python3.6/dist-packages (from transformers==3.4.0) (0.8)\n",
            "Requirement already satisfied: packaging in /usr/local/lib/python3.6/dist-packages (from transformers==3.4.0) (20.4)\n",
            "Collecting tokenizers==0.9.2\n",
            "\u001b[?25l  Downloading https://files.pythonhosted.org/packages/7c/a5/78be1a55b2ac8d6a956f0a211d372726e2b1dd2666bb537fea9b03abd62c/tokenizers-0.9.2-cp36-cp36m-manylinux1_x86_64.whl (2.9MB)\n",
            "\u001b[K     |████████████████████████████████| 2.9MB 49.4MB/s \n",
            "\u001b[?25hRequirement already satisfied: tqdm>=4.27 in /usr/local/lib/python3.6/dist-packages (from transformers==3.4.0) (4.41.1)\n",
            "Collecting sentencepiece!=0.1.92\n",
            "\u001b[?25l  Downloading https://files.pythonhosted.org/packages/e5/2d/6d4ca4bef9a67070fa1cac508606328329152b1df10bdf31fb6e4e727894/sentencepiece-0.1.94-cp36-cp36m-manylinux2014_x86_64.whl (1.1MB)\n",
            "\u001b[K     |████████████████████████████████| 1.1MB 43.7MB/s \n",
            "\u001b[?25hRequirement already satisfied: six>=1.9 in /usr/local/lib/python3.6/dist-packages (from protobuf->transformers==3.4.0) (1.15.0)\n",
            "Requirement already satisfied: setuptools in /usr/local/lib/python3.6/dist-packages (from protobuf->transformers==3.4.0) (50.3.2)\n",
            "Requirement already satisfied: click in /usr/local/lib/python3.6/dist-packages (from sacremoses->transformers==3.4.0) (7.1.2)\n",
            "Requirement already satisfied: joblib in /usr/local/lib/python3.6/dist-packages (from sacremoses->transformers==3.4.0) (0.17.0)\n",
            "Requirement already satisfied: certifi>=2017.4.17 in /usr/local/lib/python3.6/dist-packages (from requests->transformers==3.4.0) (2020.11.8)\n",
            "Requirement already satisfied: idna<3,>=2.5 in /usr/local/lib/python3.6/dist-packages (from requests->transformers==3.4.0) (2.10)\n",
            "Requirement already satisfied: chardet<4,>=3.0.2 in /usr/local/lib/python3.6/dist-packages (from requests->transformers==3.4.0) (3.0.4)\n",
            "Requirement already satisfied: urllib3!=1.25.0,!=1.25.1,<1.26,>=1.21.1 in /usr/local/lib/python3.6/dist-packages (from requests->transformers==3.4.0) (1.24.3)\n",
            "Requirement already satisfied: pyparsing>=2.0.2 in /usr/local/lib/python3.6/dist-packages (from packaging->transformers==3.4.0) (2.4.7)\n",
            "Building wheels for collected packages: sacremoses\n",
            "  Building wheel for sacremoses (setup.py) ... \u001b[?25l\u001b[?25hdone\n",
            "  Created wheel for sacremoses: filename=sacremoses-0.0.43-cp36-none-any.whl size=893257 sha256=1ac268c52bb01ba893e8c1bf1c4379011e41c9111ae014d16484318598b661e9\n",
            "  Stored in directory: /root/.cache/pip/wheels/29/3c/fd/7ce5c3f0666dab31a50123635e6fb5e19ceb42ce38d4e58f45\n",
            "Successfully built sacremoses\n",
            "Installing collected packages: sacremoses, tokenizers, sentencepiece, transformers\n",
            "Successfully installed sacremoses-0.0.43 sentencepiece-0.1.94 tokenizers-0.9.2 transformers-3.4.0\n"
          ],
          "name": "stdout"
        }
      ]
    },
    {
      "cell_type": "code",
      "metadata": {
        "id": "75dIz2fNWG8F"
      },
      "source": [
        "import tensorflow as tf\n",
        "import torch\n",
        "import re\n",
        "import pprint\n",
        "from transformers import BertModel\n",
        "from transformers import BertTokenizer\n",
        "import transformers.modeling_bert\n",
        "from tokenization_kobert import KoBertTokenizer\n",
        "from transformers import BertForTokenClassification, AdamW, BertConfig\n",
        "from transformers import get_linear_schedule_with_warmup\n",
        "from torch.utils.data import TensorDataset, DataLoader, RandomSampler, SequentialSampler\n",
        "from keras.preprocessing.sequence import pad_sequences\n",
        "import numpy as np\n",
        "import time\n",
        "import datetime"
      ],
      "execution_count": null,
      "outputs": []
    },
    {
      "cell_type": "markdown",
      "metadata": {
        "id": "h_U3uMySBCIV"
      },
      "source": [
        "<br>\n",
        "<br>\n",
        "\n",
        "# **데이터 로드**"
      ]
    },
    {
      "cell_type": "markdown",
      "metadata": {
        "id": "RNWLrmTw_9Mr"
      },
      "source": [
        "\n",
        "\n",
        "*   데이터 수집은 한국해양대학교 개체명 코퍼스에서 input, target 각각 약 21000 문장씩 파싱했으며 Training set으로 약 17000문장, Vaildation set으로 약 4000문장을 선정했습니다.\n",
        "*   119 신고 도메인에 맞추기 위해 '피해 유형'을 나타내는 <EMR> 태그를 부착한 문장 데이터를 추가로 약 1000개 구축했습니다.\n",
        "\n",
        "\n"
      ]
    },
    {
      "cell_type": "markdown",
      "metadata": {
        "id": "lCUB3UBZ0DvB"
      },
      "source": [
        "### **Input, target 데이터 load**"
      ]
    },
    {
      "cell_type": "code",
      "metadata": {
        "id": "qDDwI677xf6j",
        "colab": {
          "base_uri": "https://localhost:8080/"
        },
        "outputId": "0ae46f82-6344-42ef-d7c0-877f51a3aeac"
      },
      "source": [
        "# f = open(\"drive/My Drive/BERT_NER/final_input.txt\", 'r')\n",
        "# f = open(\"drive/My Drive/BERT_NER/final_input_new_data.txt\", 'r')\n",
        "f = open(\"drive/My Drive/BERT_NER/for_AI/final_input_new_data_for_AI_201130.txt\", 'r')\n",
        "input_list = f.readlines()\n",
        "f.close()\n",
        "print(\"--예시--\")\n",
        "print(input_list[0:10], \"\\n 총 문장 수 : \", len(input_list))"
      ],
      "execution_count": null,
      "outputs": [
        {
          "output_type": "stream",
          "text": [
            "--예시--\n",
            "['여기서 우투수는 우타자를 상대로 0.279, 좌타자를 상대로 0.286의 피안타율을 기록했다.\\n', \"위쪽 절반은 빨갛게, 나머지 반은 하얗게 칠해진 단단한 공. 미국과 유럽, 일본 등 전 세계 수천만 명이 스마트폰 안에서 던지고 있는 '몬스터 볼'이다.\\n\", '안 전 대표는 친박(친박근혜)과 친문(친문재인)을 제외한 세력이 합치는 \\'제3지대론\\'에 대해 \"총선 민심이 저희를 깨워 주셨는데 그걸 스스로 부정하는 건 민심에 반하는 것\"이라고 일축했다.\\n', '얼마 전 안산에 있는 지아네 집을 찾았다.\\n', 'tvN 관계자는 1월31일 \"술을 마시며 이야기하는 취중진담 콘셉트의 장점을 최대한 살리기 위해 이 같이 결정했다\"며 \"15세 이상 관람가 때보다 조금 더 편안하고 자유로운 분위기를 전달하기 위해 맞춤 편집한다\"고 밝혔다.\\n', '슈틸리케 감독은 이날 전주월드컵경기장에서 팬 사인회와 시축으로 팬들을 만나며 K리그 개막을 축하한다.\\n', '2015 K리그 클래식은 차두리(서울), 김신욱(울산), 정대세(수원), 이동국 등 내로라하는 스타선수들이 개막 준비를 끝내고 축구팬들을 맞을 채비를 마쳤다.\\n', '선불카드 하나로 4명이 무기명으로 그린피 면제 혜택을 받을 수도 있다.\\n', \"지난 5일 부산에서 열린 문 전 대표의 북콘서트에는 '미생'을 그린 만화가 윤태호, 가수 강산에ㆍ박기영, 방송인 김미화가 참석했다.\\n\", '반면 2경기 째 승리를 올리지 못한 선두 서울은 6승1무2패, 승점 19로 제자리걸음했다.\\n'] \n",
            " 총 문장 수 :  18186\n"
          ],
          "name": "stdout"
        }
      ]
    },
    {
      "cell_type": "code",
      "metadata": {
        "id": "er1GFxz52ofm",
        "colab": {
          "base_uri": "https://localhost:8080/"
        },
        "outputId": "cbe4ef82-218d-45da-bbbe-2d519ffece50"
      },
      "source": [
        "# f = open(\"drive/My Drive/BERT_NER/final_target.txt\", 'r')\n",
        "# f = open(\"drive/My Drive/BERT_NER/final_target_new_data.txt\", 'r')\n",
        "f = open(\"drive/My Drive/BERT_NER/for_AI/final_target_new_data_for_AI_201130.txt\", 'r')\n",
        "target_list = f.readlines()\n",
        "f.close()\n",
        "print(\"--예시--\")\n",
        "print(target_list[0:10], \"\\n 총 문장 수 : \", len(target_list))"
      ],
      "execution_count": null,
      "outputs": [
        {
          "output_type": "stream",
          "text": [
            "--예시--\n",
            "['여기서 우투수는 우타자를 상대로 <0.279:PNT>, 좌타자를 상대로 <0.286:PNT>의 피안타율을 기록했다.\\n', \"위쪽 절반은 빨갛게, 나머지 반은 하얗게 칠해진 단단한 공. <미국:LOC>과 <유럽:LOC>, <일본:LOC> 등 전 세계 <수천만 명:NOH>이 스마트폰 안에서 던지고 있는 '몬스터 볼'이다.\\n\", '<안:PER> 전 대표는 친박(친<박근혜:PER>)과 친문(친<문재인:PER>)을 제외한 세력이 합치는 \\'<제3:NOH>지대론\\'에 대해 \"총선 민심이 저희를 깨워 주셨는데 그걸 스스로 부정하는 건 민심에 반하는 것\"이라고 일축했다.\\n', '얼마 전 <안산:LOC>에 있는 <지아:PER>네 집을 찾았다.\\n', '<tvN:ORG> 관계자는 <1월31일:DAT> \"술을 마시며 이야기하는 취중진담 콘셉트의 장점을 최대한 살리기 위해 이 같이 결정했다\"며 \"<15세:NOH> 이상 관람가 때보다 조금 더 편안하고 자유로운 분위기를 전달하기 위해 맞춤 편집한다\"고 밝혔다.\\n', '<슈틸리케:PER> 감독은 이날 <전주월드컵경기장:LOC>에서 팬 사인회와 시축으로 팬들을 만나며 <K리그:POH> 개막을 축하한다.\\n', '<2015:DAT> <K리그 클래식:POH>은 <차두리:PER>(<서울:LOC>), <김신욱:PER>(<울산:LOC>), <정대세:PER>(<수원:LOC>), <이동국:PER> 등 내로라하는 스타선수들이 개막 준비를 끝내고 축구팬들을 맞을 채비를 마쳤다.\\n', '선불카드 <하나:NOH>로 <4명:NOH>이 무기명으로 그린피 면제 혜택을 받을 수도 있다.\\n', \"지난 <5일:DAT> <부산:LOC>에서 열린 <문:PER> 전 대표의 북콘서트에는 '<미생:POH>'을 그린 만화가 <윤태호:PER>, 가수 <강산에:PER>ㆍ<박기영:PER>, 방송인 <김미화:PER>가 참석했다.\\n\", '반면 <2경기:NOH> 째 승리를 올리지 못한 선두 <서울:LOC>은 <6승:NOH><1무:NOH><2패:NOH>, 승점 <19:NOH>로 제자리걸음했다.\\n'] \n",
            " 총 문장 수 :  18186\n"
          ],
          "name": "stdout"
        }
      ]
    },
    {
      "cell_type": "markdown",
      "metadata": {
        "id": "BQ8aqiq_xBYo"
      },
      "source": [
        "## **데이터 전처리 : Input용**\n",
        "BERT의 Transformer 알고리즘 구조에 맞추기 위해 input 데이터를 전처리하는 과정입니다."
      ]
    },
    {
      "cell_type": "markdown",
      "metadata": {
        "id": "NYyqXX_ZE-ZL"
      },
      "source": [
        "#### **SentencePiece tokenizing, Integer encoding, Padding, Attention masks** \n",
        "SentencePiece tokennizing과 정수 인코딩, 패딩 작업을 수행합니다.\n",
        "<br>\n",
        "또한, Attention masks를 생성합니다. 이는 학습 시간의 효율을 위해 패딩된 부분을 Attention 구조에 통과시키지 않도록 하는 역할을 합니다."
      ]
    },
    {
      "cell_type": "code",
      "metadata": {
        "id": "UTRZTSec_lfl"
      },
      "source": [
        "def preprocessing_input(input_list):\n",
        "\n",
        "  # CLS와 SEP토큰 부착\n",
        "  text_CLS = [\"[CLS] \" + str(txt) + \" [SEP]\" for txt in input_list]\n",
        "\n",
        "  # 토크나이저 정의 및 토크나이징\n",
        "  tokenizer = KoBertTokenizer.from_pretrained('monologg/kobert')\n",
        "  tokenized_texts = [tokenizer.tokenize(txt) for txt in text_CLS]\n",
        " \n",
        "  # 토큰 --> 정수 인덱스로 변환\n",
        "  input_ids = [tokenizer.convert_tokens_to_ids(x) for x in tokenized_texts] \n",
        "\n",
        "  # 입력 토큰의 최대 시퀀스 길이\n",
        "  MAX_LEN = 128\n",
        "\n",
        "  # 패딩 수행 : 문장을 MAX_LEN 길이에 맞게 자르고, 모자란 부분을 패딩 0으로 채움 \n",
        "  input_ids = pad_sequences(input_ids, maxlen=MAX_LEN, dtype=\"long\", truncating=\"post\", padding=\"post\")\n",
        "  # 어텐션 마스크 초기화\n",
        "  attention_masks = []\n",
        "\n",
        "  # 어텐션 마스크, 값이 있다면 1, 패딩 부분이면 0으로 설정\n",
        "  # 패딩 부분은 BERT 모델에서 어텐션을 수행하지 않아 속도 향상\n",
        "  for seq in input_ids:\n",
        "      seq_mask = [float(i>0) for i in seq]\n",
        "      attention_masks.append(seq_mask)\n",
        " \n",
        "  return input_ids, attention_masks, tokenized_texts"
      ],
      "execution_count": null,
      "outputs": []
    },
    {
      "cell_type": "code",
      "metadata": {
        "id": "HIOtNYc8oyI5"
      },
      "source": [
        "input_ids, attention_masks, tokenized_text = preprocessing_input(input_list)"
      ],
      "execution_count": null,
      "outputs": []
    },
    {
      "cell_type": "markdown",
      "metadata": {
        "id": "jBp4BaBX3ao1"
      },
      "source": [
        "## **데이터 전처리 : Target용**\n",
        "\n"
      ]
    },
    {
      "cell_type": "markdown",
      "metadata": {
        "id": "nSPE29dW3tCc"
      },
      "source": [
        "#### **SentencePiece tokenizing**\n",
        "input data와 동일하게 SentencePiece tokenizing을 진행합니다."
      ]
    },
    {
      "cell_type": "code",
      "metadata": {
        "id": "VflI3tV918D-"
      },
      "source": [
        "def preprocessing_target(input_list, target_list):\n",
        "  # 토크나이징\n",
        "  tokenizer = KoBertTokenizer.from_pretrained('monologg/kobert')\n",
        "  tokenized_target_text = [tokenizer.tokenize(text_temp) for text_temp in target_list]\n",
        "\n",
        "  # CLS, SEP가 부착되지 않은 input 데이터\n",
        "  tokenized_texts_withoutCLS = [tokenizer.tokenize(text) for text in input_list]\n",
        "\n",
        "  # 밑에 진행되는 작업들까지 수행\n",
        "  result_target_list = convert_target_to_string(tokenized_target_text)\n",
        "  prefix_sum_of_token_start_index_list, list_of_ner_tag_list, list_of_ner_text_list, list_of_tuple_ner_start_end_list = searching_boundary(tokenized_texts_withoutCLS, result_target_list)\n",
        "  list_of_ner_label_list = tagging_label(tokenized_texts_withoutCLS, prefix_sum_of_token_start_index_list, list_of_ner_tag_list, list_of_ner_text_list, list_of_tuple_ner_start_end_list)\n",
        "  ner_label_list_result = append_CLS_SEP(list_of_ner_label_list)\n",
        "  return ner_label_list_result"
      ],
      "execution_count": null,
      "outputs": []
    },
    {
      "cell_type": "markdown",
      "metadata": {
        "id": "tQrOZs-a1i7k"
      },
      "source": [
        "#### **Tokenized input text에 대응되는 개체명 테그셋 만들기**\n",
        "Input에 대한 각각 토큰과 Target의 개체명 태그를 맞춰주는 작업입니다."
      ]
    },
    {
      "cell_type": "markdown",
      "metadata": {
        "id": "tHTVDimqrty_"
      },
      "source": [
        "각각의 토큰으로 list에 저장되어 있는 target data를 하나의 문자열로 변환합니다."
      ]
    },
    {
      "cell_type": "code",
      "metadata": {
        "id": "uNSWkHNtd5o5"
      },
      "source": [
        "def convert_target_to_string(tokenized_target_text):\n",
        "  result_string_list = []\n",
        "  # list형식의 tokenized target token들을 하나의 문자열로 변환 \n",
        "  for target_token in tokenized_target_text:\n",
        "    result_string = \"\"\n",
        "    for tkd in target_token:\n",
        "      result_string += tkd\n",
        "    result_string_list.append(result_string)\n",
        "\n",
        "  return result_string_list"
      ],
      "execution_count": null,
      "outputs": []
    },
    {
      "cell_type": "markdown",
      "metadata": {
        "id": "AfC1jZK5xm7B"
      },
      "source": [
        "개체명이 나타나는 부분이 어디인지 알아내기 위한 사전준비로 다음을 수행합니다.\n",
        "\n",
        "\n",
        "1.   하나의 input 문장을 이루는 token들이 각각 몇 번째에 출현하는지 찾음 \n",
        "2.   이전에 문자열로 변환했던 target 문장에서 정규식을 통해 개체명, 개체명 태그, 개체명이 출현하는 범위를 찾음\n",
        "\n"
      ]
    },
    {
      "cell_type": "code",
      "metadata": {
        "id": "aXPzRDTZiAtL"
      },
      "source": [
        "def searching_boundary(tokenized_texts_withoutCLS, new_result_target_list):\n",
        "  prefix_sum_of_token_start_index_list = []\n",
        "  for tokenized_texts in tokenized_texts_withoutCLS:\n",
        "    prefix_sum_of_token_start_index = []\n",
        "    sum = 0\n",
        "    for i, token in enumerate(tokenized_texts):\n",
        "        if i == 0:\n",
        "            prefix_sum_of_token_start_index.append(0)\n",
        "            sum += len(token)\n",
        "        else:\n",
        "            prefix_sum_of_token_start_index.append(sum)\n",
        "            sum += len(token)\n",
        "\n",
        "    prefix_sum_of_token_start_index_list.append(prefix_sum_of_token_start_index)\n",
        "\n",
        "\n",
        "  regex_ner = re.compile('<(.+?):[A-Z]{3}>')\n",
        "\n",
        "  list_of_ner_tag_list = []\n",
        "  list_of_ner_text_list = []\n",
        "  list_of_tuple_ner_start_end_list = []\n",
        "\n",
        "  for result_string in new_result_target_list:\n",
        "    filterd_by_regex = regex_ner.finditer(result_string)\n",
        "\n",
        "    list_of_ner_tag = []\n",
        "    list_of_ner_text = []\n",
        "    list_of_tuple_ner_start_end = []\n",
        "\n",
        "    count_of_match = 0\n",
        "\n",
        "    for match_item in filterd_by_regex:\n",
        "        ner_tag = match_item[0][-4:-1]  # <4일간:DUR> -> DUR\n",
        "        ner_text = match_item[1] # <4일간:DUR> -> 4일간\n",
        "        start_index = match_item.start() - 6 * count_of_match  # delete previous '<, :, 3 words tag name, >'\n",
        "        end_index = match_item.end() - 6 - 6 * count_of_match\n",
        "\n",
        "        list_of_ner_tag.append(ner_tag)\n",
        "        list_of_ner_text.append(ner_text)\n",
        "        list_of_tuple_ner_start_end.append((start_index, end_index))\n",
        "        count_of_match += 1\n",
        "\n",
        "    list_of_ner_tag_list.append(list_of_ner_tag)\n",
        "    list_of_ner_text_list.append(list_of_ner_text)\n",
        "    list_of_tuple_ner_start_end_list.append(list_of_tuple_ner_start_end)\n",
        "\n",
        "  return prefix_sum_of_token_start_index_list, list_of_ner_tag_list, list_of_ner_text_list, list_of_tuple_ner_start_end_list"
      ],
      "execution_count": null,
      "outputs": []
    },
    {
      "cell_type": "markdown",
      "metadata": {
        "id": "OU1izOuC6Z9K"
      },
      "source": [
        "구해놓았던 각 input토큰의 시작점과, 실제 개체명의 출현 범위를 비교하며 토큰에 대한 태그를 부착합니다."
      ]
    },
    {
      "cell_type": "code",
      "metadata": {
        "id": "ufHw9sJMCoFR"
      },
      "source": [
        "def tagging_label(tokenized_texts_withoutCLS, prefix_sum_of_token_start_index_list, list_of_ner_tag_list, list_of_ner_text_list, list_of_tuple_ner_start_end_list):\n",
        "  list_of_ner_label_list = []\n",
        "  for i in range(0, len(tokenized_texts_withoutCLS)):\n",
        "    list_of_ner_label = []\n",
        "    entity_index = 0\n",
        "    is_entity_still_B = True\n",
        "    for tup in zip(tokenized_texts_withoutCLS[i], prefix_sum_of_token_start_index_list[i]): # tokenize된 텍스트와, 각 토큰의 시작점이 tup에 저장됨\n",
        "        token, index = tup\n",
        "        if '▁' in token:  # '▁' 이것과 우리가 쓰는 underscore '_'는 서로 다른 문자임\n",
        "                index += 1  # 토큰이 '▁'를 앞단에 포함한 경우 index 한개 앞으로 당김 # ('▁13', 9) -> ('13', 10)\n",
        "        \n",
        "        if entity_index < len(list_of_tuple_ner_start_end_list[i]): # entity_index가 분석 개체명 개수보다 작을 경우\n",
        "            start, end = list_of_tuple_ner_start_end_list[i][entity_index] # start, end 값은 entity_index 번째의 start, end 값\n",
        "            if end <= index:  # 토큰을 하나하나 보다가, 인식된 개체명을 넘어가면       # end : 원본 데이터에서 인식된 개체명 엔티티가 끝나는 지점, index : 각 토큰들의 시작점\n",
        "                is_entity_still_B = True # is_entity_still_B = true로 설정\n",
        "                entity_index = entity_index + 1 if entity_index + 1 < len(list_of_tuple_ner_start_end_list[i]) else entity_index # 아래 과정을 더하여 다음 인식된 개체명으로 넘어감\n",
        "                start, end = list_of_tuple_ner_start_end_list[i][entity_index]\n",
        "            # 인식된 개체명 사이에 index가 도달했을 경우\n",
        "            if start <= index and index < end: \n",
        "                entity_tag = list_of_ner_tag_list[i][entity_index] # 해당 개체명에 대한 태그를 entity_tag에 저장\n",
        "                if is_entity_still_B is True: # 엔티티의 첫 시작점이라면\n",
        "                    entity_tag = 'B-' + entity_tag # entity_tag 앞에 B-를 붙임\n",
        "                    list_of_ner_label.append(entity_tag) # label set에 결과물을 넣음\n",
        "                    is_entity_still_B = False # is_entity_still_B = False로 설정, 이제부터는 시작점이 아니므로\n",
        "                else: # 시작점이 아닐 경우\n",
        "                    entity_tag = 'I-' + entity_tag  # entity_tag 앞에 I-를 붙임\n",
        "                    list_of_ner_label.append(entity_tag) # label set에 넣음\n",
        "            else: # 인식된 개체명이 없을 경우\n",
        "                is_entity_still_B = True # is_entity_still_B = True로 설정\n",
        "                entity_tag = 'O' # entity_tag = O로 변경\n",
        "                list_of_ner_label.append(entity_tag) # label set에 넣음\n",
        "\n",
        "        else:\n",
        "            entity_tag = 'O'\n",
        "            list_of_ner_label.append(entity_tag)\n",
        "    list_of_ner_label_list.append(list_of_ner_label)\n",
        "  return list_of_ner_label_list"
      ],
      "execution_count": null,
      "outputs": []
    },
    {
      "cell_type": "markdown",
      "metadata": {
        "id": "JVE7AeiA6TVm"
      },
      "source": [
        "결과물에 [SEP]와 [CLS] 태그를 부착합니다.\n",
        "<br>"
      ]
    },
    {
      "cell_type": "markdown",
      "metadata": {
        "id": "rQqRxVkUdObm"
      },
      "source": [
        "앞서 Input data에도 부착된 이 태그들은 BERT 모델 형식에 맞추기 위함으로, [CLS]는 문장의 시작을 나타내고 [SEP]는 문장이 분리되는 지점(문장의 끝)을 나타냅니다."
      ]
    },
    {
      "cell_type": "code",
      "metadata": {
        "id": "IQv-RqMSF--u"
      },
      "source": [
        "def append_CLS_SEP(list_of_ner_label_list):\n",
        "  for ner_label in list_of_ner_label_list:\n",
        "    ner_label.append(\"[SEP]\")\n",
        "    ner_label.insert(0, \"[CLS]\")\n",
        "  return list_of_ner_label_list"
      ],
      "execution_count": null,
      "outputs": []
    },
    {
      "cell_type": "code",
      "metadata": {
        "id": "KV-6OZNRqtes"
      },
      "source": [
        "ner_label_list_result = preprocessing_target(input_list, target_list)"
      ],
      "execution_count": null,
      "outputs": []
    },
    {
      "cell_type": "markdown",
      "metadata": {
        "id": "QLWFwJWLNcVM"
      },
      "source": [
        "### Target labels에 대한 Integer encoding & padding작업"
      ]
    },
    {
      "cell_type": "markdown",
      "metadata": {
        "id": "lLcoZnRSelaS"
      },
      "source": [
        "target label(tagset) 에 대한 정수 인코딩, 패딩 작업입니다. \n",
        "<br>\n",
        "Tokenized input data에서 사용한 정수 인코딩 방법이 제대로 적용되지 않는 오류가 있어 다음과 같이 tagset에 대한 {태그:숫자값} dictionary를 임의로 생성하였습니다. "
      ]
    },
    {
      "cell_type": "code",
      "metadata": {
        "id": "bOR-yZa_p1Zh"
      },
      "source": [
        "# '피해 유형'을 나타내는 EMR 태그까지 생성\n",
        "tag_dict = {'[PAD]' : 0, '[CLS]': 1, '[SEP]': 2, 'O' : 3,\n",
        "            'B-PER': 4, 'I-PER': 5, \n",
        "            'B-ORG': 6, 'I-ORG': 7,\n",
        "            'B-LOC': 8, 'I-LOC': 9, \n",
        "            'B-POH': 10, 'I-POH': 11,\n",
        "            'B-DAT': 12, 'I-DAT': 13,\n",
        "            'B-TIM': 14, 'I-TIM': 15,\n",
        "            'B-DUR': 16, 'I-DUR': 17,\n",
        "            'B-MNY': 18, 'I-MNY': 19,\n",
        "            'B-PNT': 20, 'I-PNT': 21, \n",
        "            'B-NOH': 22, 'I-NOH': 23,\n",
        "            'B-EMR': 24, 'I-EMR': 25}"
      ],
      "execution_count": null,
      "outputs": []
    },
    {
      "cell_type": "markdown",
      "metadata": {
        "id": "UPYZd4ug3lvb"
      },
      "source": [
        "{숫자값:태그}을 갖는 역순의 dict입니다. 이후 결과 출력을 위해 사용됩니다."
      ]
    },
    {
      "cell_type": "code",
      "metadata": {
        "id": "j9OQXhsZzS5V"
      },
      "source": [
        "tag_dict_decode = inv_map = {v: k for k, v in tag_dict.items()}"
      ],
      "execution_count": null,
      "outputs": []
    },
    {
      "cell_type": "markdown",
      "metadata": {
        "id": "OKFe9CYV4GFc"
      },
      "source": [
        "생성한 dict를 통해 label(tagset)에 대한 정수 인코딩을 진행합니다."
      ]
    },
    {
      "cell_type": "code",
      "metadata": {
        "id": "vqROZvZitTrO"
      },
      "source": [
        "labels_ids = []\n",
        "\n",
        "for label_list in ner_label_list_result:\n",
        "  labels_ids_encoding = [tag_dict.get(x) for x in label_list]  \n",
        "  labels_ids.append(labels_ids_encoding)"
      ],
      "execution_count": null,
      "outputs": []
    },
    {
      "cell_type": "markdown",
      "metadata": {
        "id": "3pSNKpDrufAL"
      },
      "source": [
        "Input data와 같은 길이로 padding을 진행합니다."
      ]
    },
    {
      "cell_type": "code",
      "metadata": {
        "id": "xInrK83bi0Y_"
      },
      "source": [
        "MAX_LEN = 128\n",
        "\n",
        "labels_ids = pad_sequences(labels_ids, maxlen=MAX_LEN, dtype=\"long\", truncating=\"post\", padding=\"post\")"
      ],
      "execution_count": null,
      "outputs": []
    },
    {
      "cell_type": "markdown",
      "metadata": {
        "id": "3X8I0JLpgJSf"
      },
      "source": [
        "# **Modeling**"
      ]
    },
    {
      "cell_type": "markdown",
      "metadata": {
        "id": "Qdfmm27yulTV"
      },
      "source": [
        "#### **데이터 구조 변환 및 Training 준비**"
      ]
    },
    {
      "cell_type": "markdown",
      "metadata": {
        "id": "i_FM7aQAgTvt"
      },
      "source": [
        "준비한 각 데이터를 Pytorch의 Tensor라는 자료구조 형식으로 변환합니다. Hugging face의 Pytorch 기반 라이브러리를 사용하기 때문입니다."
      ]
    },
    {
      "cell_type": "code",
      "metadata": {
        "id": "3gluWH_qf57L"
      },
      "source": [
        "model_inputs = torch.tensor(input_ids)\n",
        "model_labels = torch.tensor(labels_ids)\n",
        "model_masks = torch.tensor(attention_masks)"
      ],
      "execution_count": null,
      "outputs": []
    },
    {
      "cell_type": "code",
      "metadata": {
        "id": "XKgS_QgPxjgZ"
      },
      "source": [
        "# 배치 사이즈 (학습 한 번에 들어갈 데이터의 사이즈)\n",
        "batch_size = 8\n",
        "\n",
        "# Pytorch의 DataLoader로 입력, 마스크, 라벨을 묶어 데이터를 설정\n",
        "# 학습시 배치 사이즈 만큼 데이터를 가져옴\n",
        "model_data = TensorDataset(model_inputs, model_masks, model_labels)\n",
        "model_sampler = RandomSampler(model_data)\n",
        "model_dataloader = DataLoader(model_data, sampler=model_sampler, batch_size=batch_size)"
      ],
      "execution_count": null,
      "outputs": []
    },
    {
      "cell_type": "markdown",
      "metadata": {
        "id": "WwuqbCWqvlUl"
      },
      "source": [
        "Model을 생성하기 전, GPU연산을 해야 하기 때문에 GPU에 대한 정보를 파악하고, GPU 디바이스 설정을 진행합니다."
      ]
    },
    {
      "cell_type": "code",
      "metadata": {
        "id": "rZiADr9EvoFZ",
        "colab": {
          "base_uri": "https://localhost:8080/"
        },
        "outputId": "2fd49324-92b5-4a3f-d1ac-76ec64becb20"
      },
      "source": [
        "# GPU 디바이스 이름 구함\n",
        "device_name = tf.test.gpu_device_name()\n",
        "\n",
        "# GPU 디바이스 이름 검사\n",
        "if device_name == '/device:GPU:0':\n",
        "    print('Found GPU at: {}'.format(device_name))\n",
        "else:\n",
        "    raise SystemError('GPU device not found')\n",
        "    \n",
        "# 디바이스 설정\n",
        "if torch.cuda.is_available():    \n",
        "    device = torch.device(\"cuda\")\n",
        "    print('There are %d GPU(s) available.' % torch.cuda.device_count())\n",
        "    print('We will use the GPU:', torch.cuda.get_device_name(0))\n",
        "else:\n",
        "    device = torch.device(\"cpu\")\n",
        "    print('No GPU available, using the CPU instead.')"
      ],
      "execution_count": null,
      "outputs": [
        {
          "output_type": "stream",
          "text": [
            "Found GPU at: /device:GPU:0\n",
            "There are 1 GPU(s) available.\n",
            "We will use the GPU: Tesla T4\n"
          ],
          "name": "stdout"
        }
      ]
    },
    {
      "cell_type": "markdown",
      "metadata": {
        "id": "_AySBqrixdcd"
      },
      "source": [
        "Model을 생성합니다."
      ]
    },
    {
      "cell_type": "code",
      "metadata": {
        "id": "8ovKnF3Sv3Kp"
      },
      "source": [
        "# Token 분류를 위한 KoBERT 모델 생성\n",
        "model = BertForTokenClassification.from_pretrained('monologg/kobert', num_labels = 26, \n",
        "                                                   output_attentions = False, output_hidden_states = False)\n",
        "model.cuda()"
      ],
      "execution_count": null,
      "outputs": []
    },
    {
      "cell_type": "markdown",
      "metadata": {
        "id": "D7hl_4mWx5HG"
      },
      "source": [
        "# **Training**"
      ]
    },
    {
      "cell_type": "markdown",
      "metadata": {
        "id": "TzlT5Ux6u4DW"
      },
      "source": [
        "#### **Optimizer & Hyper parameters 설정**"
      ]
    },
    {
      "cell_type": "code",
      "metadata": {
        "id": "LCieXNB_xLSD"
      },
      "source": [
        "# 옵티마이저 설정\n",
        "optimizer = AdamW(model.parameters(),\n",
        "                  lr = 1e-5, # 학습률\n",
        "                  eps = 1e-8 # 0으로 나누는 것을 방지하기 위한 epsilon 값\n",
        "                )\n",
        "\n",
        "# 에폭수\n",
        "epochs = 50\n",
        "\n",
        "# 총 훈련 스텝 : 배치반복 횟수 * 에폭\n",
        "total_steps = len(model_dataloader) * epochs\n",
        "\n",
        "# 학습률을 조금씩 감소시키는 스케줄러 생성 (overfitting 방지)\n",
        "scheduler = get_linear_schedule_with_warmup(optimizer, \n",
        "                                            num_warmup_steps = 0,\n",
        "                                            num_training_steps = total_steps)"
      ],
      "execution_count": null,
      "outputs": []
    },
    {
      "cell_type": "code",
      "metadata": {
        "id": "Zz9lHa8PyErU"
      },
      "source": [
        "# 시간 표시 함수\n",
        "def format_time(elapsed):\n",
        "\n",
        "    # 반올림\n",
        "    elapsed_rounded = int(round((elapsed)))\n",
        "    \n",
        "    # hh:mm:ss으로 형태 변경\n",
        "    return str(datetime.timedelta(seconds=elapsed_rounded))"
      ],
      "execution_count": null,
      "outputs": []
    },
    {
      "cell_type": "markdown",
      "metadata": {
        "id": "j1zj-Mybu_HU"
      },
      "source": [
        "#### **Training 진행**"
      ]
    },
    {
      "cell_type": "code",
      "metadata": {
        "id": "aR0lYzRUyHVx"
      },
      "source": [
        "# 그래디언트 초기화\n",
        "model.zero_grad()\n",
        "\n",
        "# 에폭만큼 반복\n",
        "for epoch_i in range(0, epochs):\n",
        "    print(\"\")\n",
        "    print('======== Epoch {:} / {:} ========'.format(epoch_i + 1, epochs))\n",
        "    print('Training...')\n",
        "\n",
        "    # 시작 시간 설정\n",
        "    t0 = time.time()\n",
        "\n",
        "    # 로스 초기화\n",
        "    total_loss = 0\n",
        "\n",
        "    # 훈련모드로 변경\n",
        "    model.train()\n",
        "        \n",
        "    # 데이터로더에서 배치만큼 반복하여 가져옴\n",
        "    for step, batch in enumerate(model_dataloader):\n",
        "\n",
        "        batch = tuple(t.to(device) for t in batch)\n",
        "        \n",
        "        # 배치에서 데이터 추출\n",
        "        b_input_ids, b_input_mask, b_labels = batch\n",
        "        # Forward 수행                \n",
        "        outputs = model(b_input_ids, \n",
        "                        token_type_ids=None, \n",
        "                        attention_mask=b_input_mask, \n",
        "                        labels=b_labels)\n",
        "        # 로스 구함\n",
        "        loss = outputs[0]\n",
        "        # 총 로스 계산\n",
        "        total_loss += loss.item()\n",
        "\n",
        "        # Backward 수행으로 그래디언트 계산\n",
        "        loss.backward()\n",
        "\n",
        "        # 그래디언트 클리핑\n",
        "        torch.nn.utils.clip_grad_norm_(model.parameters(), 1.0)\n",
        "        # 그래디언트를 통해 가중치 파라미터 업데이트\n",
        "        optimizer.step()\n",
        "        # 스케줄러로 학습률 감소\n",
        "        scheduler.step()\n",
        "        # 그래디언트 초기화\n",
        "        model.zero_grad()\n",
        "\n",
        "    # 평균 로스 계산\n",
        "    avg_train_loss = total_loss / len(model_dataloader)            \n",
        "\n",
        "    print(\"\")\n",
        "    print(\"  Average training loss: {0:.2f}\".format(avg_train_loss))\n",
        "    print(\"  Training epcoh took: {:}\".format(format_time(time.time() - t0)))\n",
        "\n",
        "print(\"\")\n",
        "print(\"Training complete!\")\n",
        "\n"
      ],
      "execution_count": null,
      "outputs": []
    },
    {
      "cell_type": "markdown",
      "metadata": {
        "id": "qMZowNUoFRRT"
      },
      "source": [
        "training 완료한 모델을 저장합니다."
      ]
    },
    {
      "cell_type": "code",
      "metadata": {
        "id": "riad1SfyTncx"
      },
      "source": [
        "torch.save(model, 'drive/My Drive/BERT_NER/KoBERTmodel_for_AI_201130.pt')"
      ],
      "execution_count": null,
      "outputs": []
    },
    {
      "cell_type": "markdown",
      "metadata": {
        "id": "ognq1_VmFYZi"
      },
      "source": [
        "# **Evaluation**"
      ]
    },
    {
      "cell_type": "markdown",
      "metadata": {
        "id": "9rWgMQyhFhBC"
      },
      "source": [
        "#### **평가를 위한 Input, Target 데이터 load**"
      ]
    },
    {
      "cell_type": "code",
      "metadata": {
        "id": "porvMyYvFR-F",
        "colab": {
          "base_uri": "https://localhost:8080/"
        },
        "outputId": "505ae404-df51-4717-b7ef-ffb3aabc49e3"
      },
      "source": [
        "f = open(\"drive/My Drive/BERT_NER/test_input_final.txt\", 'r')\n",
        "test_input_list = f.readlines()\n",
        "f.close()\n",
        "print(\"--예시--\")\n",
        "print(test_input_list[0:10], \"\\n 총 문장 수 : \", len(test_input_list))"
      ],
      "execution_count": null,
      "outputs": [
        {
          "output_type": "stream",
          "text": [
            "--예시--\n",
            "['현대건설은 예선A조 첫 경기서 GS칼텍스를 3-2(25-23 24-26 22-25 25-20 15-13)로 제압했다 ．\\n', '대한항공 \"한전 꿇어\"\\n', '한전은 경기가 시작되자마자 강력한 서브로 대한항공 수비진을 흔든 뒤 이병주, 최귀동의 공격을 앞세워 첫 세트를 따내며 불의의 일격을 가했다 .\\n', '체육진흥투표권 수탁사업자인 스포츠토토㈜(www.sportstoto.co.kr)는 28일 개막한 2008 KOVO컵 IBK기업은행배 양산프로배구대회를 대상으로 새로운 방식으로 변경된 배구토토 매치게임을 본격 발매한다고 밝혔다 .\\n', '●하이원컵 SBS 채리티여자오픈(강원도 정선 하이원골프장)\\n', '1공태욱(김해건설공)\\n', '니시코리(일본) 기권승 카라누시치(크로아티아), 루옌순(대만) 1(1-6 6-4 6-7 4-6)3 치폴라(이스테이트)\\n', '공 감독은 \"달리 어쩌겠나 .\\n', '한전은 등록선수 9명으로 2008 양산프로배구대회(양산실내체육관)에 나왔다 .\\n', '경기내용은 좋아지겠지만 문성민이 와도 금세 팀이 달라지는 것이 아니다 .\\n'] \n",
            " 총 문장 수 :  4700\n"
          ],
          "name": "stdout"
        }
      ]
    },
    {
      "cell_type": "code",
      "metadata": {
        "id": "tkz-7I4MFSvJ",
        "colab": {
          "base_uri": "https://localhost:8080/"
        },
        "outputId": "34dfa702-a172-440d-cb74-adb12e405d56"
      },
      "source": [
        "f = open(\"drive/My Drive/BERT_NER/test_target_final.txt\", 'r')\n",
        "test_target_list = f.readlines()\n",
        "f.close()\n",
        "print(\"--예시--\")\n",
        "print(test_target_list[0:10], \"\\n 총 문장 수 : \", len(test_target_list))"
      ],
      "execution_count": null,
      "outputs": [
        {
          "output_type": "stream",
          "text": [
            "--예시--\n",
            "['<현대건설:ORG>은 예선<A조:ORG> 첫 경기서 <GS칼텍스:ORG>를 <3-2:NOH>(<25-23:NOH> <24-26:NOH> <22-25:NOH> <25-20:NOH> <15-13:NOH>)로 제압했다 ．\\n', '<대한항공:ORG> \"<한전:ORG> 꿇어\"\\n', '<한전:ORG>은 경기가 시작되자마자 강력한 서브로 <대한항공:ORG> 수비진을 흔든 뒤 <이병주:PER>, <최귀동:PER>의 공격을 앞세워 첫 세트를 따내며 불의의 일격을 가했다 .\\n', '체육진흥투표권 수탁사업자인 <스포츠토토㈜:POH>(<www.sportstoto.co.kr:POH>)는 <28일:DAT> 개막한 <2008:DAT> <KOVO컵 IBK기업은행배 양산프로배구대회:POH>를 대상으로 새로운 방식으로 변경된 배구토토 매치게임을 본격 발매한다고 밝혔다 .\\n', '●<하이원컵 SBS 채리티여자오픈:POH>(<강원도:LOC> <정선 하이원골프장:LOC>)\\n', '1<공태욱:PER>(<김해건설공:ORG>)\\n', '<니시코리:PER>(<일본:LOC>) 기권승 <카라누시치:PER>(<크로아티아:LOC>), <루옌순:PER>(<대만:LOC>) 1(<1-6:NOH> <6-4:NOH> <6-7:NOH> <4-6:NOH>)<3:NOH> <치폴라:PER>(<이스테이트:LOC>)\\n', '<공:PER> 감독은 \"달리 어쩌겠나 .\\n', '<한전:ORG>은 등록선수 <9명:NOH>으로 <2008:DAT> <양산프로배구대회:POH>(<양산실내체육관:LOC>)에 나왔다 .\\n', '경기내용은 좋아지겠지만 <문성민:PER>이 와도 금세 팀이 달라지는 것이 아니다 .\\n'] \n",
            " 총 문장 수 :  4700\n"
          ],
          "name": "stdout"
        }
      ]
    },
    {
      "cell_type": "markdown",
      "metadata": {
        "id": "DnloXCJOGmS4"
      },
      "source": [
        "#### 평가를 위한 데이터 전처리 : Input용\n",
        "기존 학습 데이터의 전처리 과정과 동일합니다."
      ]
    },
    {
      "cell_type": "code",
      "metadata": {
        "id": "vclW-GqSF54q"
      },
      "source": [
        "test_input_ids, test_masks_ids, tokenized_texts = preprocessing_input(test_input_list)"
      ],
      "execution_count": null,
      "outputs": []
    },
    {
      "cell_type": "markdown",
      "metadata": {
        "id": "upbScYRPHNxn"
      },
      "source": [
        "#### 평가를 위한 데이터 전처리 : Target용"
      ]
    },
    {
      "cell_type": "code",
      "metadata": {
        "id": "bFRRkOjrFnLs"
      },
      "source": [
        "test_target = preprocessing_target(test_input_list, test_target_list)"
      ],
      "execution_count": null,
      "outputs": []
    },
    {
      "cell_type": "markdown",
      "metadata": {
        "id": "FTX87OHDPW3j"
      },
      "source": [
        "#### Evaluation 진행"
      ]
    },
    {
      "cell_type": "markdown",
      "metadata": {
        "id": "Tl-ylyZDvok6"
      },
      "source": [
        "저장한 Model을 불러옵니다."
      ]
    },
    {
      "cell_type": "code",
      "metadata": {
        "id": "ojfiNuwxPVX7"
      },
      "source": [
        "model = torch.load('drive/My Drive/BERT_NER/KoBERTmodel_for_AI_201130.pt')"
      ],
      "execution_count": null,
      "outputs": []
    },
    {
      "cell_type": "markdown",
      "metadata": {
        "id": "Zz-QrTsXvtjt"
      },
      "source": [
        "GPU 디바이스 설정을 학습때와 동일하게 진행합니다."
      ]
    },
    {
      "cell_type": "code",
      "metadata": {
        "id": "2_WyULS_JUE2",
        "colab": {
          "base_uri": "https://localhost:8080/"
        },
        "outputId": "0fe67433-1a2c-4cee-a84b-87b9a5c87386"
      },
      "source": [
        "# GPU 디바이스 이름 구함\n",
        "device_name = tf.test.gpu_device_name()\n",
        "\n",
        "# GPU 디바이스 이름 검사\n",
        "if device_name == '/device:GPU:0':\n",
        "    print('Found GPU at: {}'.format(device_name))\n",
        "else:\n",
        "    raise SystemError('GPU device not found')\n",
        "    \n",
        "# 디바이스 설정\n",
        "if torch.cuda.is_available():    \n",
        "    device = torch.device(\"cuda\")\n",
        "    print('There are %d GPU(s) available.' % torch.cuda.device_count())\n",
        "    print('We will use the GPU:', torch.cuda.get_device_name(0))\n",
        "else:\n",
        "    device = torch.device(\"cpu\")\n",
        "    print('No GPU available, using the CPU instead.')"
      ],
      "execution_count": null,
      "outputs": [
        {
          "output_type": "stream",
          "text": [
            "Found GPU at: /device:GPU:0\n",
            "There are 1 GPU(s) available.\n",
            "We will use the GPU: Tesla T4\n"
          ],
          "name": "stdout"
        }
      ]
    },
    {
      "cell_type": "markdown",
      "metadata": {
        "id": "0qgiZUtuvwA1"
      },
      "source": [
        "forward를 수행합니다."
      ]
    },
    {
      "cell_type": "code",
      "metadata": {
        "id": "rjx2wnMjFXnd"
      },
      "source": [
        "# 평가모드로 변경\n",
        "model.eval()\n",
        "# 변수 초기화\n",
        "eval_loss, eval_accuracy = 0, 0\n",
        "nb_eval_steps, nb_eval_examples = 0, 0\n",
        "\n",
        "\n",
        "\n",
        "tokenizer = KoBertTokenizer.from_pretrained('monologg/kobert')\n",
        "pred_labels = [] # 예측 태그셋을 담을 리스트\n",
        "# 데이터로더에서 배치만큼 반복하여 가져옴\n",
        "for i in range(0, len(test_input_list)):\n",
        "    stopFlag = False\n",
        "    test_inputs = torch.tensor([test_input_ids[i]])\n",
        "    test_masks = torch.tensor([test_masks_ids[i]])\n",
        "\n",
        "    # 배치를 GPU에 넣음\n",
        "    b_input_ids = test_inputs.to(device)\n",
        "    b_input_mask = test_masks.to(device)\n",
        "    \n",
        "    # 그래디언트 계산 안함\n",
        "    with torch.no_grad():     \n",
        "        # Forward 수행\n",
        "        outputs = model(b_input_ids, \n",
        "                        token_type_ids=None, \n",
        "                        attention_mask=b_input_mask)\n",
        "    \n",
        "    logits = np.argmax(outputs[0].to('cpu').numpy(), axis=2)\n",
        "    # join bpe split tokens\n",
        "    tokens = tokenizer.convert_ids_to_tokens(b_input_ids.to('cpu').numpy()[0])\n",
        "    new_labels = []\n",
        "    for token, label_idx in zip(tokens, logits[0]):\n",
        "        if stopFlag == True:\n",
        "          break\n",
        "        if token == '[SEP]': # 패딩 전까지의 출력만을 보기 위해\n",
        "          stopFlag = True\n",
        "        new_labels.append(tag_dict_decode[label_idx])\n",
        "\n",
        "    pred_labels.append(new_labels)"
      ],
      "execution_count": null,
      "outputs": []
    },
    {
      "cell_type": "markdown",
      "metadata": {
        "id": "O6KIJm_xuJfU"
      },
      "source": [
        "토큰간 정확도(Accuracy) 측정을 진행합니다."
      ]
    },
    {
      "cell_type": "code",
      "metadata": {
        "id": "U93xNT2qsLZb",
        "colab": {
          "base_uri": "https://localhost:8080/"
        },
        "outputId": "0881a1b1-4ee2-401b-c9ea-4f08c30b2f66"
      },
      "source": [
        "num, total = 0, 0\n",
        "for i in range(0, len(pred_labels)):\n",
        "  for pred, target in zip(pred_labels[i], test_target[i]):\n",
        "    # 고정으로 들어가 있는 [CLS], [SEP] 는 제외함\n",
        "    if (pred == '[CLS]' and target == '[CLS]') or (pred == '[SEP]' and target == '[SEP]'):\n",
        "      continue\n",
        "    if pred == target:\n",
        "      num +=1\n",
        "  total += len(pred_labels[i])-2 # [CLS], [SEP] 태그 수 빼기\n",
        "\n",
        "print(\"Accuracy : \", num/total*100,\"%\")"
      ],
      "execution_count": null,
      "outputs": [
        {
          "output_type": "stream",
          "text": [
            "Accuracy :  92.38425234482347 %\n"
          ],
          "name": "stdout"
        }
      ]
    },
    {
      "cell_type": "markdown",
      "metadata": {
        "id": "8ZTZpecbRtBv"
      },
      "source": [
        "# **Testing**\n",
        "임의의 문장이 모델을 통과한 결과를 가공하여 출력 형태를 맞춘 후, 올바르게 분석되는지 확인합니다. "
      ]
    },
    {
      "cell_type": "markdown",
      "metadata": {
        "id": "BtW5h2Cb8Oef"
      },
      "source": [
        "#### **입력 문장에 대한 전처리**\n",
        "학습 데이터 중 Input data에 대한 전처리 과정과 동일합니다."
      ]
    },
    {
      "cell_type": "code",
      "metadata": {
        "id": "RS3KQXlORt9Y"
      },
      "source": [
        "# 입력 데이터 전처리\n",
        "def convert_input_data(sentences):\n",
        "    text_CLS = [\"[CLS] \" + str(txt) + \" [SEP]\" for txt in sentences]\n",
        "    tokenizer = KoBertTokenizer.from_pretrained('monologg/kobert')\n",
        "    # 토크나이징\n",
        "    tokenized_texts = [tokenizer.tokenize(sent) for sent in text_CLS]\n",
        "    MAX_LEN = 128 # MAX_LEN 설정\n",
        "    # 정수 인코딩 및 패딩 진행\n",
        "    input_ids = [tokenizer.convert_tokens_to_ids(x) for x in tokenized_texts]\n",
        "    input_ids = pad_sequences(input_ids, maxlen=MAX_LEN, dtype=\"long\", truncating=\"post\", padding=\"post\")\n",
        "    # 어텐션 마스크 설정\n",
        "    attention_masks = []\n",
        "    for seq in input_ids:\n",
        "        seq_mask = [float(i>0) for i in seq]\n",
        "        attention_masks.append(seq_mask)\n",
        "    # 데이터를 파이토치의 텐서로 변환\n",
        "    inputs = torch.tensor(input_ids)\n",
        "    masks = torch.tensor(attention_masks)\n",
        "\n",
        "    return inputs, masks"
      ],
      "execution_count": null,
      "outputs": []
    },
    {
      "cell_type": "markdown",
      "metadata": {
        "id": "0HNoTcMy8Sre"
      },
      "source": [
        "#### **모델 통과 및 결과 가공 수행**"
      ]
    },
    {
      "cell_type": "code",
      "metadata": {
        "id": "UAuWPnrMS9Wu"
      },
      "source": [
        "# 문장 테스트\n",
        "def test_sentences(sentences):\n",
        "    stopFlag = False\n",
        "    tokenizer = KoBertTokenizer.from_pretrained('monologg/kobert')\n",
        "    # 평가모드로 변경\n",
        "    model.eval()\n",
        "    # 문장을 입력 데이터로 변환\n",
        "    inputs, masks = convert_input_data(sentences)\n",
        "    if torch.cuda.is_available():    \n",
        "        device = torch.device(\"cuda\")\n",
        "    else:\n",
        "        device = torch.device(\"cpu\")\n",
        "\n",
        "    b_input_ids = inputs.to(device)\n",
        "    b_input_mask = masks.to(device)\n",
        "            \n",
        "    # 그래디언트 계산 안함\n",
        "    with torch.no_grad():     \n",
        "        # Forward 수행\n",
        "        outputs = model(b_input_ids, \n",
        "                        token_type_ids=None, \n",
        "                        attention_mask=b_input_mask\n",
        "                        )\n",
        "    logits = np.argmax(outputs[0].to('cpu').numpy(), axis=2)\n",
        "    \n",
        "    # join bpe split tokens\n",
        "    tokens = tokenizer.convert_ids_to_tokens(b_input_ids.to('cpu').numpy()[0])\n",
        "    new_tokens, new_labels = [], []\n",
        "    for token, label_idx in zip(tokens, logits[0]):\n",
        "        if stopFlag == True:\n",
        "          break\n",
        "        if token == '[SEP]': # 패딩 전까지의 출력만을 보기 위해\n",
        "          stopFlag = True\n",
        "        new_labels.append(tag_dict_decode[label_idx])\n",
        "        new_tokens.append(token)\n",
        "\n",
        "    # return logits\n",
        "    return new_labels, new_tokens"
      ],
      "execution_count": null,
      "outputs": []
    },
    {
      "cell_type": "markdown",
      "metadata": {
        "id": "amR7C5frwSHK"
      },
      "source": [
        "#### **결과 확인**"
      ]
    },
    {
      "cell_type": "code",
      "metadata": {
        "id": "UdvlGctTIGHV",
        "colab": {
          "base_uri": "https://localhost:8080/"
        },
        "outputId": "07dd5e3c-8566-40a7-c142-399242b30ec3"
      },
      "source": [
        "input_text = '상명대학교의 송재우는 두레미담에서 11시 30분에 점심을 먹었다.'\n",
        "new_label, new_token = test_sentences([input_text])\n",
        "\n",
        "for token, label in zip(new_token, new_label): \n",
        "    print(\"{}\\t{}\".format(label, token))"
      ],
      "execution_count": null,
      "outputs": [
        {
          "output_type": "stream",
          "text": [
            "[CLS]\t[CLS]\n",
            "B-ORG\t▁상\n",
            "I-ORG\t명\n",
            "I-ORG\t대학교\n",
            "O\t의\n",
            "B-PER\t▁송\n",
            "I-PER\t재\n",
            "I-PER\t우는\n",
            "B-POH\t▁두\n",
            "I-POH\t레\n",
            "I-POH\t미\n",
            "I-POH\t담\n",
            "O\t에서\n",
            "B-TIM\t▁11\n",
            "I-TIM\t시\n",
            "I-TIM\t▁30\n",
            "I-TIM\t분\n",
            "O\t에\n",
            "O\t▁점\n",
            "O\t심을\n",
            "O\t▁먹\n",
            "O\t었다\n",
            "[SEP]\t.\n",
            "[SEP]\t[SEP]\n"
          ],
          "name": "stdout"
        }
      ]
    },
    {
      "cell_type": "code",
      "metadata": {
        "colab": {
          "base_uri": "https://localhost:8080/"
        },
        "id": "3HMidYrQkAP1",
        "outputId": "a4aeb18d-1927-450f-da2e-213140d0695e"
      },
      "source": [
        "input_text = '여기가 지금 스타벅스 광화문점인데 불이 갑자기 났거든요? 얼른 와주세요'\n",
        "new_label, new_token = test_sentences([input_text])\n",
        "\n",
        "for token, label in zip(new_token, new_label): \n",
        "    print(\"{}\\t{}\".format(label, token))"
      ],
      "execution_count": null,
      "outputs": [
        {
          "output_type": "stream",
          "text": [
            "[CLS]\t[CLS]\n",
            "O\t▁여기\n",
            "O\t가\n",
            "O\t▁지금\n",
            "B-ORG\t▁스타\n",
            "I-ORG\t벅\n",
            "I-ORG\t스\n",
            "B-LOC\t▁광\n",
            "I-LOC\t화\n",
            "I-LOC\t문\n",
            "I-LOC\t점\n",
            "O\t인데\n",
            "B-EMR\t▁불\n",
            "I-EMR\t이\n",
            "I-EMR\t▁갑자기\n",
            "I-EMR\t▁\n",
            "I-EMR\t났\n",
            "I-EMR\t거\n",
            "I-EMR\t든\n",
            "I-EMR\t요\n",
            "O\t?\n",
            "O\t▁\n",
            "O\t얼\n",
            "O\t른\n",
            "O\t▁\n",
            "O\t와\n",
            "O\t주세요\n",
            "[SEP]\t[SEP]\n"
          ],
          "name": "stdout"
        }
      ]
    },
    {
      "cell_type": "code",
      "metadata": {
        "id": "X_tjpEREAPTi"
      },
      "source": [
        ""
      ],
      "execution_count": null,
      "outputs": []
    }
  ]
}